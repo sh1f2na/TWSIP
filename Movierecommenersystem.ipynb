{
  "nbformat": 4,
  "nbformat_minor": 0,
  "metadata": {
    "colab": {
      "provenance": [],
      "authorship_tag": "ABX9TyPrORuH9ufn8+JP5G7sbE+J",
      "include_colab_link": true
    },
    "kernelspec": {
      "name": "python3",
      "display_name": "Python 3"
    },
    "language_info": {
      "name": "python"
    }
  },
  "cells": [
    {
      "cell_type": "markdown",
      "metadata": {
        "id": "view-in-github",
        "colab_type": "text"
      },
      "source": [
        "<a href=\"https://colab.research.google.com/github/sh1f2na/TWSIP/blob/main/Movierecommenersystem.ipynb\" target=\"_parent\"><img src=\"https://colab.research.google.com/assets/colab-badge.svg\" alt=\"Open In Colab\"/></a>"
      ]
    },
    {
      "cell_type": "code",
      "execution_count": 2,
      "metadata": {
        "colab": {
          "base_uri": "https://localhost:8080/"
        },
        "id": "df_fJCU-umgO",
        "outputId": "5843745a-aeef-41a2-a54f-496a34639195"
      },
      "outputs": [
        {
          "output_type": "stream",
          "name": "stdout",
          "text": [
            "Collecting scikit-surprise\n",
            "  Downloading scikit-surprise-1.1.3.tar.gz (771 kB)\n",
            "\u001b[?25l     \u001b[90m━━━━━━━━━━━━━━━━━━━━━━━━━━━━━━━━━━━━━━━━\u001b[0m \u001b[32m0.0/772.0 kB\u001b[0m \u001b[31m?\u001b[0m eta \u001b[36m-:--:--\u001b[0m\r\u001b[2K     \u001b[91m━━━━━━━━\u001b[0m\u001b[91m╸\u001b[0m\u001b[90m━━━━━━━━━━━━━━━━━━━━━━━━━━━━━━\u001b[0m \u001b[32m174.1/772.0 kB\u001b[0m \u001b[31m5.4 MB/s\u001b[0m eta \u001b[36m0:00:01\u001b[0m\r\u001b[2K     \u001b[91m━━━━━━━━━━━━━━━━━━━━━━━━━━━━━━━━━━\u001b[0m\u001b[90m╺\u001b[0m\u001b[90m━━━\u001b[0m \u001b[32m696.3/772.0 kB\u001b[0m \u001b[31m10.2 MB/s\u001b[0m eta \u001b[36m0:00:01\u001b[0m\r\u001b[2K     \u001b[90m━━━━━━━━━━━━━━━━━━━━━━━━━━━━━━━━━━━━━━━\u001b[0m \u001b[32m772.0/772.0 kB\u001b[0m \u001b[31m8.5 MB/s\u001b[0m eta \u001b[36m0:00:00\u001b[0m\n",
            "\u001b[?25h  Preparing metadata (setup.py) ... \u001b[?25l\u001b[?25hdone\n",
            "Requirement already satisfied: joblib>=1.0.0 in /usr/local/lib/python3.10/dist-packages (from scikit-surprise) (1.3.2)\n",
            "Requirement already satisfied: numpy>=1.17.3 in /usr/local/lib/python3.10/dist-packages (from scikit-surprise) (1.23.5)\n",
            "Requirement already satisfied: scipy>=1.3.2 in /usr/local/lib/python3.10/dist-packages (from scikit-surprise) (1.11.3)\n",
            "Building wheels for collected packages: scikit-surprise\n",
            "  Building wheel for scikit-surprise (setup.py) ... \u001b[?25l\u001b[?25hdone\n",
            "  Created wheel for scikit-surprise: filename=scikit_surprise-1.1.3-cp310-cp310-linux_x86_64.whl size=3163335 sha256=e5bf47c714c1eddeeb93208de00d6a4d5b9640bdb6d8aa38d37cf0ff405dcacb\n",
            "  Stored in directory: /root/.cache/pip/wheels/a5/ca/a8/4e28def53797fdc4363ca4af740db15a9c2f1595ebc51fb445\n",
            "Successfully built scikit-surprise\n",
            "Installing collected packages: scikit-surprise\n",
            "Successfully installed scikit-surprise-1.1.3\n"
          ]
        }
      ],
      "source": [
        "pip install scikit-surprise"
      ]
    },
    {
      "cell_type": "code",
      "source": [
        "import pandas as pd\n",
        "from surprise import Reader, Dataset, SVD\n",
        "from surprise.model_selection import cross_validate\n"
      ],
      "metadata": {
        "id": "RIUEnrsTu94Y"
      },
      "execution_count": 3,
      "outputs": []
    },
    {
      "cell_type": "code",
      "source": [
        "# Download the dataset\n",
        "data_url = 'http://files.grouplens.org/datasets/movielens/ml-100k/u.data'\n",
        "item_url = 'http://files.grouplens.org/datasets/movielens/ml-100k/u.item'\n",
        "\n",
        "df = pd.read_csv(data_url, sep='\\t', names=['user_id', 'item_id', 'rating', 'timestamp'])\n",
        "\n",
        "# Print some data information for debugging\n",
        "print(\"Data information:\")\n",
        "print(df.head())\n",
        "\n"
      ],
      "metadata": {
        "colab": {
          "base_uri": "https://localhost:8080/"
        },
        "id": "vgOmZPryvEDd",
        "outputId": "a39c4f7b-f548-46c5-bc88-65c6c5214097"
      },
      "execution_count": 40,
      "outputs": [
        {
          "output_type": "stream",
          "name": "stdout",
          "text": [
            "Data information:\n",
            "   user_id  item_id  rating  timestamp\n",
            "0      196      242       3  881250949\n",
            "1      186      302       3  891717742\n",
            "2       22      377       1  878887116\n",
            "3      244       51       2  880606923\n",
            "4      166      346       1  886397596\n"
          ]
        }
      ]
    },
    {
      "cell_type": "code",
      "source": [
        "# Use the SVD algorithm.\n",
        "algo = SVD()\n"
      ],
      "metadata": {
        "id": "nUhewRLyvcKY"
      },
      "execution_count": 5,
      "outputs": []
    },
    {
      "cell_type": "code",
      "source": [
        "# Train the algorithm on the dataset, and then run the cross-validation\n",
        "cross_validate(algo, data, measures=['RMSE', 'MAE'], cv=60, verbose=True)"
      ],
      "metadata": {
        "id": "9Y8LRg0vvf3F",
        "colab": {
          "base_uri": "https://localhost:8080/"
        },
        "outputId": "1ac98b20-8401-469e-b825-1847c89d6bec"
      },
      "execution_count": 49,
      "outputs": [
        {
          "output_type": "stream",
          "name": "stdout",
          "text": [
            "Evaluating RMSE, MAE of algorithm SVD on 60 split(s).\n",
            "\n",
            "                  Fold 1  Fold 2  Fold 3  Fold 4  Fold 5  Fold 6  Fold 7  Fold 8  Fold 9  Fold 10 Fold 11 Fold 12 Fold 13 Fold 14 Fold 15 Fold 16 Fold 17 Fold 18 Fold 19 Fold 20 Fold 21 Fold 22 Fold 23 Fold 24 Fold 25 Fold 26 Fold 27 Fold 28 Fold 29 Fold 30 Fold 31 Fold 32 Fold 33 Fold 34 Fold 35 Fold 36 Fold 37 Fold 38 Fold 39 Fold 40 Fold 41 Fold 42 Fold 43 Fold 44 Fold 45 Fold 46 Fold 47 Fold 48 Fold 49 Fold 50 Fold 51 Fold 52 Fold 53 Fold 54 Fold 55 Fold 56 Fold 57 Fold 58 Fold 59 Fold 60 Mean    Std     \n",
            "RMSE (testset)    0.9511  0.9413  0.9144  0.9345  0.9262  0.9142  0.8893  0.9299  0.9342  0.9443  0.9435  0.9245  0.9412  0.8968  0.9272  0.9140  0.9594  0.8942  0.9356  0.9340  0.9038  0.8804  0.9321  0.9065  0.9539  0.9316  0.9263  0.9095  0.9234  0.9211  0.9235  0.9468  0.9469  0.8890  0.9175  0.9205  0.9259  0.9104  0.9290  0.9361  0.9306  0.9664  0.9149  0.9404  0.9128  0.9269  0.9486  0.9199  0.9581  0.9036  0.9238  0.9303  0.9280  0.9580  0.8818  0.8997  0.8966  0.9123  0.9193  0.9254  0.9247  0.0194  \n",
            "MAE (testset)     0.7390  0.7396  0.7190  0.7345  0.7344  0.7237  0.6959  0.7385  0.7359  0.7356  0.7379  0.7271  0.7344  0.7117  0.7299  0.7113  0.7632  0.7112  0.7460  0.7403  0.7194  0.6920  0.7344  0.7211  0.7571  0.7253  0.7395  0.7194  0.7316  0.7329  0.7264  0.7447  0.7440  0.7013  0.7156  0.7274  0.7303  0.7222  0.7228  0.7325  0.7343  0.7584  0.7167  0.7402  0.7141  0.7190  0.7462  0.7240  0.7556  0.7146  0.7240  0.7308  0.7290  0.7516  0.6931  0.7072  0.7100  0.7102  0.7246  0.7320  0.7281  0.0153  \n",
            "Fit time          2.54    1.80    1.77    1.80    1.83    2.43    1.96    1.80    1.82    1.81    1.82    2.40    1.95    1.81    1.82    1.79    1.81    2.38    2.00    1.83    1.79    1.77    1.79    2.35    1.99    2.32    2.00    1.78    1.79    2.58    1.83    1.80    1.78    1.80    1.88    2.53    1.82    1.81    1.84    1.80    1.79    2.55    1.84    1.81    1.84    1.82    1.83    2.50    1.83    1.82    1.84    1.82    1.89    2.43    1.85    1.80    1.84    1.77    1.91    2.46    1.96    0.26    \n",
            "Test time         0.01    0.01    0.01    0.01    0.01    0.02    0.01    0.01    0.01    0.01    0.01    0.02    0.02    0.02    0.01    0.01    0.01    0.02    0.01    0.01    0.01    0.01    0.01    0.02    0.01    0.02    0.01    0.01    0.01    0.01    0.01    0.01    0.01    0.01    0.02    0.01    0.01    0.01    0.01    0.01    0.01    0.01    0.01    0.01    0.01    0.01    0.02    0.01    0.02    0.01    0.01    0.02    0.02    0.01    0.01    0.01    0.01    0.01    0.02    0.01    0.01    0.00    \n"
          ]
        },
        {
          "output_type": "execute_result",
          "data": {
            "text/plain": [
              "{'test_rmse': array([0.95112043, 0.94134817, 0.91439914, 0.93447774, 0.92620812,\n",
              "        0.91417831, 0.88925248, 0.92987247, 0.93416697, 0.94427264,\n",
              "        0.94352881, 0.92451715, 0.94117596, 0.89681123, 0.92720468,\n",
              "        0.91403097, 0.95935972, 0.89419762, 0.93560827, 0.93400337,\n",
              "        0.90383348, 0.8804033 , 0.93206942, 0.90647048, 0.95393844,\n",
              "        0.93159095, 0.92628613, 0.90949037, 0.92335055, 0.92109247,\n",
              "        0.92353554, 0.94678957, 0.94694658, 0.888974  , 0.91746866,\n",
              "        0.92052131, 0.92593997, 0.91042915, 0.92904755, 0.93608577,\n",
              "        0.93055404, 0.96638414, 0.91488244, 0.94044779, 0.91281918,\n",
              "        0.92694863, 0.94857834, 0.91985252, 0.95812202, 0.90361945,\n",
              "        0.9237996 , 0.93026116, 0.9280446 , 0.95801151, 0.88184306,\n",
              "        0.89969656, 0.89661681, 0.91225202, 0.91934178, 0.9253684 ]),\n",
              " 'test_mae': array([0.73898003, 0.73955468, 0.71895943, 0.73446944, 0.73436839,\n",
              "        0.7237442 , 0.69585696, 0.73853299, 0.73586147, 0.73562094,\n",
              "        0.73794719, 0.72708015, 0.73439231, 0.71171397, 0.72992172,\n",
              "        0.71126146, 0.7631826 , 0.71120453, 0.74600908, 0.7402614 ,\n",
              "        0.71943232, 0.69201125, 0.73442601, 0.7210865 , 0.75711086,\n",
              "        0.72528553, 0.73953499, 0.71937535, 0.7315627 , 0.73291289,\n",
              "        0.7263871 , 0.74471825, 0.74396085, 0.70134007, 0.71560346,\n",
              "        0.7274393 , 0.73027404, 0.72223899, 0.7228293 , 0.73250413,\n",
              "        0.73428692, 0.75839926, 0.71671008, 0.74018573, 0.71409137,\n",
              "        0.71897063, 0.74621714, 0.72398336, 0.75561146, 0.71458417,\n",
              "        0.72397126, 0.73076343, 0.72899008, 0.75163474, 0.69313632,\n",
              "        0.70715404, 0.71002311, 0.7101728 , 0.72464661, 0.73202199]),\n",
              " 'fit_time': (2.537091016769409,\n",
              "  1.7980611324310303,\n",
              "  1.7667503356933594,\n",
              "  1.7974376678466797,\n",
              "  1.8327467441558838,\n",
              "  2.4326610565185547,\n",
              "  1.9567852020263672,\n",
              "  1.8009216785430908,\n",
              "  1.818767786026001,\n",
              "  1.8139090538024902,\n",
              "  1.8157198429107666,\n",
              "  2.403900146484375,\n",
              "  1.9517192840576172,\n",
              "  1.8053553104400635,\n",
              "  1.8216314315795898,\n",
              "  1.7885596752166748,\n",
              "  1.810328483581543,\n",
              "  2.384646415710449,\n",
              "  1.996401071548462,\n",
              "  1.8251688480377197,\n",
              "  1.7928321361541748,\n",
              "  1.766878604888916,\n",
              "  1.7913057804107666,\n",
              "  2.3494603633880615,\n",
              "  1.9893543720245361,\n",
              "  2.3174943923950195,\n",
              "  1.999509572982788,\n",
              "  1.777083158493042,\n",
              "  1.7917454242706299,\n",
              "  2.575920343399048,\n",
              "  1.8292319774627686,\n",
              "  1.7985870838165283,\n",
              "  1.7781951427459717,\n",
              "  1.7996535301208496,\n",
              "  1.8806748390197754,\n",
              "  2.528047800064087,\n",
              "  1.8164844512939453,\n",
              "  1.8128206729888916,\n",
              "  1.8363885879516602,\n",
              "  1.7952723503112793,\n",
              "  1.7910771369934082,\n",
              "  2.5465807914733887,\n",
              "  1.8358221054077148,\n",
              "  1.810028314590454,\n",
              "  1.8399102687835693,\n",
              "  1.8155689239501953,\n",
              "  1.827352523803711,\n",
              "  2.497067928314209,\n",
              "  1.828505516052246,\n",
              "  1.8207414150238037,\n",
              "  1.838731050491333,\n",
              "  1.8156473636627197,\n",
              "  1.8917181491851807,\n",
              "  2.4329042434692383,\n",
              "  1.8501367568969727,\n",
              "  1.8002755641937256,\n",
              "  1.8353023529052734,\n",
              "  1.7735555171966553,\n",
              "  1.9059233665466309,\n",
              "  2.4634130001068115),\n",
              " 'test_time': (0.009201288223266602,\n",
              "  0.009690284729003906,\n",
              "  0.009121894836425781,\n",
              "  0.011409282684326172,\n",
              "  0.009673595428466797,\n",
              "  0.017425537109375,\n",
              "  0.009284496307373047,\n",
              "  0.009497642517089844,\n",
              "  0.01258087158203125,\n",
              "  0.00960397720336914,\n",
              "  0.013307571411132812,\n",
              "  0.0193784236907959,\n",
              "  0.022810935974121094,\n",
              "  0.023183107376098633,\n",
              "  0.00928187370300293,\n",
              "  0.009187936782836914,\n",
              "  0.009265422821044922,\n",
              "  0.016978025436401367,\n",
              "  0.009676456451416016,\n",
              "  0.010215044021606445,\n",
              "  0.010316610336303711,\n",
              "  0.013126134872436523,\n",
              "  0.009661436080932617,\n",
              "  0.017236948013305664,\n",
              "  0.013321161270141602,\n",
              "  0.016817092895507812,\n",
              "  0.009457588195800781,\n",
              "  0.009293079376220703,\n",
              "  0.00939488410949707,\n",
              "  0.009537935256958008,\n",
              "  0.009559869766235352,\n",
              "  0.009284019470214844,\n",
              "  0.009615421295166016,\n",
              "  0.009556770324707031,\n",
              "  0.01931476593017578,\n",
              "  0.009407520294189453,\n",
              "  0.009439229965209961,\n",
              "  0.00946187973022461,\n",
              "  0.009803533554077148,\n",
              "  0.009450912475585938,\n",
              "  0.00955510139465332,\n",
              "  0.009475469589233398,\n",
              "  0.009779214859008789,\n",
              "  0.011581182479858398,\n",
              "  0.01025390625,\n",
              "  0.013369560241699219,\n",
              "  0.01704549789428711,\n",
              "  0.009520530700683594,\n",
              "  0.017349720001220703,\n",
              "  0.009654760360717773,\n",
              "  0.014104604721069336,\n",
              "  0.01571178436279297,\n",
              "  0.01712799072265625,\n",
              "  0.009876012802124023,\n",
              "  0.009575128555297852,\n",
              "  0.009743213653564453,\n",
              "  0.009540796279907227,\n",
              "  0.009593486785888672,\n",
              "  0.017342805862426758,\n",
              "  0.014622688293457031)}"
            ]
          },
          "metadata": {},
          "execution_count": 49
        }
      ]
    },
    {
      "cell_type": "code",
      "source": [],
      "metadata": {
        "id": "39DUcRLovk_N"
      },
      "execution_count": null,
      "outputs": []
    },
    {
      "cell_type": "code",
      "source": [
        "trainset = data.build_full_trainset()\n",
        "algo.fit(trainset)"
      ],
      "metadata": {
        "colab": {
          "base_uri": "https://localhost:8080/"
        },
        "id": "qtJYKGq-vt7q",
        "outputId": "dadd4e72-5a02-4457-eedc-d0c5e127a095"
      },
      "execution_count": 50,
      "outputs": [
        {
          "output_type": "execute_result",
          "data": {
            "text/plain": [
              "<surprise.prediction_algorithms.matrix_factorization.SVD at 0x7e1acba9b880>"
            ]
          },
          "metadata": {},
          "execution_count": 50
        }
      ]
    },
    {
      "cell_type": "code",
      "source": [
        "def get_movie_recommendations(user_id, num_recommendations=10):\n",
        "    list_of_movies = []\n",
        "    for movie_id in range(1, trainset.n_items):\n",
        "        if not trainset.ur[user_id]:\n",
        "            predictions = algo.predict(user_id, movie_id)\n",
        "            predicted_rating = predictions.est\n",
        "            list_of_movies.append((movie_id, predicted_rating))\n",
        "    list_of_movies.sort(key=lambda x: x[1], reverse=True)\n",
        "    return list_of_movies[:num_recommendations]"
      ],
      "metadata": {
        "id": "fIjWsj7xwN0l"
      },
      "execution_count": 51,
      "outputs": []
    },
    {
      "cell_type": "code",
      "source": [
        "# Interactive input for user ID\n",
        "user_id = input(\"Enter the user ID for movie recommendations: \")\n",
        "\n",
        "try:\n",
        "    user_id = int(user_id)\n",
        "    recommendations = get_movie_recommendations(user_id)\n",
        "\n",
        "    # Debugging: Print the movie names DataFrame\n",
        "    print(\"Movie Names DataFrame:\")\n",
        "    print(movie_names.head())\n",
        "\n",
        "    # Display the recommendations with movie names\n",
        "    for idx, (movie_id, predicted_rating) in enumerate(recommendations, 1):\n",
        "        movie_name = movie_names.loc[movie_names[0] == movie_id, 1].values[0]\n",
        "        print(f\"{idx}. Movie Name: {movie_name}, Predicted Rating: {predicted_rating}\")\n",
        "except ValueError:\n",
        "    print(\"Please enter a valid user ID.\")\n"
      ],
      "metadata": {
        "id": "qKSDQxtZxFmL",
        "colab": {
          "base_uri": "https://localhost:8080/"
        },
        "outputId": "e1af0951-cd09-46a3-9c6f-b8bdd24617e6"
      },
      "execution_count": 52,
      "outputs": [
        {
          "output_type": "stream",
          "name": "stdout",
          "text": [
            "Enter the user ID for movie recommendations: 89\n",
            "Movie Names DataFrame:\n",
            "   0                  1\n",
            "0  1   Toy Story (1995)\n",
            "1  2   GoldenEye (1995)\n",
            "2  3  Four Rooms (1995)\n",
            "3  4  Get Shorty (1995)\n",
            "4  5     Copycat (1995)\n"
          ]
        }
      ]
    }
  ]
}